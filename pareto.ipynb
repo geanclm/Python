{
 "cells": [
  {
   "cell_type": "markdown",
   "metadata": {},
   "source": [
    "# Estudos com o gráfico de Pareto"
   ]
  },
  {
   "cell_type": "code",
   "execution_count": 1,
   "metadata": {},
   "outputs": [],
   "source": [
    "# by geanclm in 05/02/2022 at 22:48h\n",
    "import pandas as pd\n",
    "import matplotlib.pyplot as plt\n",
    "from matplotlib.ticker import PercentFormatter"
   ]
  },
  {
   "cell_type": "code",
   "execution_count": 2,
   "metadata": {},
   "outputs": [],
   "source": [
    "df = pd.DataFrame({'ocorrência':[75, 33, 126, 60, 572, 19, 32, 650]},\n",
    "            index = ['Venda sem margem', 'Material divergente', 'Cancelamentos perdidos',\n",
    "            'Compra errada', 'Atraso de entrega', 'Nfe difergente',\n",
    "            'Valor errado', 'Material com defeito'])"
   ]
  },
  {
   "cell_type": "code",
   "execution_count": 3,
   "metadata": {},
   "outputs": [
    {
     "data": {
      "text/html": [
       "<div>\n",
       "<style scoped>\n",
       "    .dataframe tbody tr th:only-of-type {\n",
       "        vertical-align: middle;\n",
       "    }\n",
       "\n",
       "    .dataframe tbody tr th {\n",
       "        vertical-align: top;\n",
       "    }\n",
       "\n",
       "    .dataframe thead th {\n",
       "        text-align: right;\n",
       "    }\n",
       "</style>\n",
       "<table border=\"1\" class=\"dataframe\">\n",
       "  <thead>\n",
       "    <tr style=\"text-align: right;\">\n",
       "      <th></th>\n",
       "      <th>ocorrência</th>\n",
       "    </tr>\n",
       "  </thead>\n",
       "  <tbody>\n",
       "    <tr>\n",
       "      <th>Venda sem margem</th>\n",
       "      <td>75</td>\n",
       "    </tr>\n",
       "    <tr>\n",
       "      <th>Material divergente</th>\n",
       "      <td>33</td>\n",
       "    </tr>\n",
       "    <tr>\n",
       "      <th>Cancelamentos perdidos</th>\n",
       "      <td>126</td>\n",
       "    </tr>\n",
       "    <tr>\n",
       "      <th>Compra errada</th>\n",
       "      <td>60</td>\n",
       "    </tr>\n",
       "    <tr>\n",
       "      <th>Atraso de entrega</th>\n",
       "      <td>572</td>\n",
       "    </tr>\n",
       "    <tr>\n",
       "      <th>Nfe difergente</th>\n",
       "      <td>19</td>\n",
       "    </tr>\n",
       "    <tr>\n",
       "      <th>Valor errado</th>\n",
       "      <td>32</td>\n",
       "    </tr>\n",
       "    <tr>\n",
       "      <th>Material com defeito</th>\n",
       "      <td>650</td>\n",
       "    </tr>\n",
       "  </tbody>\n",
       "</table>\n",
       "</div>"
      ],
      "text/plain": [
       "                        ocorrência\n",
       "Venda sem margem                75\n",
       "Material divergente             33\n",
       "Cancelamentos perdidos         126\n",
       "Compra errada                   60\n",
       "Atraso de entrega              572\n",
       "Nfe difergente                  19\n",
       "Valor errado                    32\n",
       "Material com defeito           650"
      ]
     },
     "execution_count": 3,
     "metadata": {},
     "output_type": "execute_result"
    }
   ],
   "source": [
    "df"
   ]
  },
  {
   "cell_type": "code",
   "execution_count": 4,
   "metadata": {},
   "outputs": [
    {
     "data": {
      "text/plain": [
       "1567"
      ]
     },
     "execution_count": 4,
     "metadata": {},
     "output_type": "execute_result"
    }
   ],
   "source": [
    "df.ocorrência.sum()"
   ]
  },
  {
   "cell_type": "code",
   "execution_count": 5,
   "metadata": {},
   "outputs": [],
   "source": [
    "df = df.sort_values(by='ocorrência', ascending=False)"
   ]
  },
  {
   "cell_type": "code",
   "execution_count": 6,
   "metadata": {},
   "outputs": [
    {
     "data": {
      "text/html": [
       "<div>\n",
       "<style scoped>\n",
       "    .dataframe tbody tr th:only-of-type {\n",
       "        vertical-align: middle;\n",
       "    }\n",
       "\n",
       "    .dataframe tbody tr th {\n",
       "        vertical-align: top;\n",
       "    }\n",
       "\n",
       "    .dataframe thead th {\n",
       "        text-align: right;\n",
       "    }\n",
       "</style>\n",
       "<table border=\"1\" class=\"dataframe\">\n",
       "  <thead>\n",
       "    <tr style=\"text-align: right;\">\n",
       "      <th></th>\n",
       "      <th>ocorrência</th>\n",
       "    </tr>\n",
       "  </thead>\n",
       "  <tbody>\n",
       "    <tr>\n",
       "      <th>Material com defeito</th>\n",
       "      <td>650</td>\n",
       "    </tr>\n",
       "    <tr>\n",
       "      <th>Atraso de entrega</th>\n",
       "      <td>572</td>\n",
       "    </tr>\n",
       "    <tr>\n",
       "      <th>Cancelamentos perdidos</th>\n",
       "      <td>126</td>\n",
       "    </tr>\n",
       "    <tr>\n",
       "      <th>Venda sem margem</th>\n",
       "      <td>75</td>\n",
       "    </tr>\n",
       "    <tr>\n",
       "      <th>Compra errada</th>\n",
       "      <td>60</td>\n",
       "    </tr>\n",
       "    <tr>\n",
       "      <th>Material divergente</th>\n",
       "      <td>33</td>\n",
       "    </tr>\n",
       "    <tr>\n",
       "      <th>Valor errado</th>\n",
       "      <td>32</td>\n",
       "    </tr>\n",
       "    <tr>\n",
       "      <th>Nfe difergente</th>\n",
       "      <td>19</td>\n",
       "    </tr>\n",
       "  </tbody>\n",
       "</table>\n",
       "</div>"
      ],
      "text/plain": [
       "                        ocorrência\n",
       "Material com defeito           650\n",
       "Atraso de entrega              572\n",
       "Cancelamentos perdidos         126\n",
       "Venda sem margem                75\n",
       "Compra errada                   60\n",
       "Material divergente             33\n",
       "Valor errado                    32\n",
       "Nfe difergente                  19"
      ]
     },
     "execution_count": 6,
     "metadata": {},
     "output_type": "execute_result"
    }
   ],
   "source": [
    "df"
   ]
  },
  {
   "cell_type": "code",
   "execution_count": 7,
   "metadata": {},
   "outputs": [],
   "source": [
    "# percentual em relação ao total de ocorrência\n",
    "df[\"percentual\"] = df[\"ocorrência\"]/df[\"ocorrência\"].sum()*100"
   ]
  },
  {
   "cell_type": "code",
   "execution_count": 8,
   "metadata": {},
   "outputs": [
    {
     "data": {
      "text/html": [
       "<div>\n",
       "<style scoped>\n",
       "    .dataframe tbody tr th:only-of-type {\n",
       "        vertical-align: middle;\n",
       "    }\n",
       "\n",
       "    .dataframe tbody tr th {\n",
       "        vertical-align: top;\n",
       "    }\n",
       "\n",
       "    .dataframe thead th {\n",
       "        text-align: right;\n",
       "    }\n",
       "</style>\n",
       "<table border=\"1\" class=\"dataframe\">\n",
       "  <thead>\n",
       "    <tr style=\"text-align: right;\">\n",
       "      <th></th>\n",
       "      <th>ocorrência</th>\n",
       "      <th>percentual</th>\n",
       "    </tr>\n",
       "  </thead>\n",
       "  <tbody>\n",
       "    <tr>\n",
       "      <th>Material com defeito</th>\n",
       "      <td>650</td>\n",
       "      <td>41.480536</td>\n",
       "    </tr>\n",
       "    <tr>\n",
       "      <th>Atraso de entrega</th>\n",
       "      <td>572</td>\n",
       "      <td>36.502872</td>\n",
       "    </tr>\n",
       "    <tr>\n",
       "      <th>Cancelamentos perdidos</th>\n",
       "      <td>126</td>\n",
       "      <td>8.040842</td>\n",
       "    </tr>\n",
       "    <tr>\n",
       "      <th>Venda sem margem</th>\n",
       "      <td>75</td>\n",
       "      <td>4.786216</td>\n",
       "    </tr>\n",
       "    <tr>\n",
       "      <th>Compra errada</th>\n",
       "      <td>60</td>\n",
       "      <td>3.828973</td>\n",
       "    </tr>\n",
       "    <tr>\n",
       "      <th>Material divergente</th>\n",
       "      <td>33</td>\n",
       "      <td>2.105935</td>\n",
       "    </tr>\n",
       "    <tr>\n",
       "      <th>Valor errado</th>\n",
       "      <td>32</td>\n",
       "      <td>2.042119</td>\n",
       "    </tr>\n",
       "    <tr>\n",
       "      <th>Nfe difergente</th>\n",
       "      <td>19</td>\n",
       "      <td>1.212508</td>\n",
       "    </tr>\n",
       "  </tbody>\n",
       "</table>\n",
       "</div>"
      ],
      "text/plain": [
       "                        ocorrência  percentual\n",
       "Material com defeito           650   41.480536\n",
       "Atraso de entrega              572   36.502872\n",
       "Cancelamentos perdidos         126    8.040842\n",
       "Venda sem margem                75    4.786216\n",
       "Compra errada                   60    3.828973\n",
       "Material divergente             33    2.105935\n",
       "Valor errado                    32    2.042119\n",
       "Nfe difergente                  19    1.212508"
      ]
     },
     "execution_count": 8,
     "metadata": {},
     "output_type": "execute_result"
    }
   ],
   "source": [
    "df"
   ]
  },
  {
   "cell_type": "code",
   "execution_count": 9,
   "metadata": {},
   "outputs": [],
   "source": [
    "# percentual acumulado\n",
    "df[\"percentual acumulado\"] = df[\"ocorrência\"].cumsum()/df[\"ocorrência\"].sum()*100"
   ]
  },
  {
   "cell_type": "code",
   "execution_count": 10,
   "metadata": {},
   "outputs": [],
   "source": [
    "pd.options.display.float_format = \"{:.2f}\".format"
   ]
  },
  {
   "cell_type": "code",
   "execution_count": 11,
   "metadata": {},
   "outputs": [
    {
     "data": {
      "text/plain": [
       "0.4148053605615826"
      ]
     },
     "execution_count": 11,
     "metadata": {},
     "output_type": "execute_result"
    }
   ],
   "source": [
    "650/1567"
   ]
  },
  {
   "cell_type": "code",
   "execution_count": 12,
   "metadata": {},
   "outputs": [
    {
     "data": {
      "text/html": [
       "<div>\n",
       "<style scoped>\n",
       "    .dataframe tbody tr th:only-of-type {\n",
       "        vertical-align: middle;\n",
       "    }\n",
       "\n",
       "    .dataframe tbody tr th {\n",
       "        vertical-align: top;\n",
       "    }\n",
       "\n",
       "    .dataframe thead th {\n",
       "        text-align: right;\n",
       "    }\n",
       "</style>\n",
       "<table border=\"1\" class=\"dataframe\">\n",
       "  <thead>\n",
       "    <tr style=\"text-align: right;\">\n",
       "      <th></th>\n",
       "      <th>ocorrência</th>\n",
       "      <th>percentual</th>\n",
       "      <th>percentual acumulado</th>\n",
       "    </tr>\n",
       "  </thead>\n",
       "  <tbody>\n",
       "    <tr>\n",
       "      <th>Material com defeito</th>\n",
       "      <td>650</td>\n",
       "      <td>41.48</td>\n",
       "      <td>41.48</td>\n",
       "    </tr>\n",
       "    <tr>\n",
       "      <th>Atraso de entrega</th>\n",
       "      <td>572</td>\n",
       "      <td>36.50</td>\n",
       "      <td>77.98</td>\n",
       "    </tr>\n",
       "    <tr>\n",
       "      <th>Cancelamentos perdidos</th>\n",
       "      <td>126</td>\n",
       "      <td>8.04</td>\n",
       "      <td>86.02</td>\n",
       "    </tr>\n",
       "    <tr>\n",
       "      <th>Venda sem margem</th>\n",
       "      <td>75</td>\n",
       "      <td>4.79</td>\n",
       "      <td>90.81</td>\n",
       "    </tr>\n",
       "    <tr>\n",
       "      <th>Compra errada</th>\n",
       "      <td>60</td>\n",
       "      <td>3.83</td>\n",
       "      <td>94.64</td>\n",
       "    </tr>\n",
       "    <tr>\n",
       "      <th>Material divergente</th>\n",
       "      <td>33</td>\n",
       "      <td>2.11</td>\n",
       "      <td>96.75</td>\n",
       "    </tr>\n",
       "    <tr>\n",
       "      <th>Valor errado</th>\n",
       "      <td>32</td>\n",
       "      <td>2.04</td>\n",
       "      <td>98.79</td>\n",
       "    </tr>\n",
       "    <tr>\n",
       "      <th>Nfe difergente</th>\n",
       "      <td>19</td>\n",
       "      <td>1.21</td>\n",
       "      <td>100.00</td>\n",
       "    </tr>\n",
       "  </tbody>\n",
       "</table>\n",
       "</div>"
      ],
      "text/plain": [
       "                        ocorrência  percentual  percentual acumulado\n",
       "Material com defeito           650       41.48                 41.48\n",
       "Atraso de entrega              572       36.50                 77.98\n",
       "Cancelamentos perdidos         126        8.04                 86.02\n",
       "Venda sem margem                75        4.79                 90.81\n",
       "Compra errada                   60        3.83                 94.64\n",
       "Material divergente             33        2.11                 96.75\n",
       "Valor errado                    32        2.04                 98.79\n",
       "Nfe difergente                  19        1.21                100.00"
      ]
     },
     "execution_count": 12,
     "metadata": {},
     "output_type": "execute_result"
    }
   ],
   "source": [
    "df"
   ]
  },
  {
   "cell_type": "code",
   "execution_count": 42,
   "metadata": {},
   "outputs": [
    {
     "data": {
      "image/png": "[encoded data removed]",
      "text/plain": [
       "<Figure size 1152x576 with 2 Axes>"
      ]
     },
     "metadata": {},
     "output_type": "display_data"
    }
   ],
   "source": [
    "# indicadores em cada atributo do gráfico\n",
    "# by geanclm in 15/02/2021 at 21:35h\n",
    "fig, ax1 = plt.subplots(figsize=(16,8))\n",
    "ax1.set_title('Gráfico de Pareto')\n",
    "ax1.set_ylabel(\"NÚMERO DE OCORRÊNCIAS\", color=\"black\", fontsize=16)\n",
    "ax1.set_xlabel(\"DESAFIOS IDENTIFICADOS\", color=\"black\", fontsize=16)\n",
    "ax1.tick_params(axis=\"y\", colors=\"C0\")\n",
    "ax1.bar(df.index, df[\"ocorrência\"], color=\"orange\", label='ocorrência')\n",
    "\n",
    "ax1.set_ylim([0,800]) # ajuste da altura do plot para a posicionar legenda\n",
    "plt.legend(fontsize=12, loc=2)\n",
    "\n",
    "# indicadores em cada atributo [ocorrência]\n",
    "# by geanclm in 15/02/2021 at 21:34h\n",
    "for i, j in enumerate(df[\"ocorrência\"]):\n",
    "    plt.text(i, j+3, f'{j}', ha='center', fontsize=16, color=\"red\")\n",
    "# ---\n",
    "\n",
    "for tick in ax1.get_xticklabels():\n",
    "    tick.set_rotation(45)\n",
    "\n",
    "ax2 = ax1.twinx()\n",
    "ax2.plot(df.index, df[\"percentual acumulado\"] , color=\"black\", marker=\"o\", ms=7, label='% acumulado')\n",
    "ax2.yaxis.set_major_formatter(PercentFormatter())\n",
    "ax2.tick_params(axis=\"y\", colors=\"C1\")\n",
    "\n",
    "ax2.set_ylim([0,120]) # ajuste da altura do plot para a posicionar legenda\n",
    "plt.legend(fontsize=12, loc=1)\n",
    "\n",
    "# indicadores em cada atributo [percentual acumulado]\n",
    "# by geanclm in 15/04/2022 at 16:48h\n",
    "for i, j in enumerate(df[\"percentual acumulado\"]):\n",
    "    plt.text(i, j+3, f'{j:.2f}%', ha='center', fontsize=14)\n",
    "# ---\n",
    "plt.grid()\n",
    "plt.show()\n",
    "# salvar gráfico em imagem .png\n",
    "# plt.savefig('pareto.png', dpi=300)"
   ]
  },
  {
   "cell_type": "code",
   "execution_count": null,
   "metadata": {},
   "outputs": [],
   "source": []
  }
 ],
 "metadata": {
  "kernelspec": {
   "display_name": "Python 3",
   "language": "python",
   "name": "python3"
  },
  "language_info": {
   "codemirror_mode": {
    "name": "ipython",
    "version": 3
   },
   "file_extension": ".py",
   "mimetype": "text/x-python",
   "name": "python",
   "nbconvert_exporter": "python",
   "pygments_lexer": "ipython3",
   "version": "3.8.5"
  }
 },
 "nbformat": 4,
 "nbformat_minor": 4
}
