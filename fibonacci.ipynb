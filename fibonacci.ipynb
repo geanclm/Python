{
 "cells": [
  {
   "cell_type": "markdown",
   "metadata": {},
   "source": [
    "# Estudando a série fibonacci"
   ]
  },
  {
   "cell_type": "code",
   "execution_count": 1,
   "metadata": {},
   "outputs": [
    {
     "name": "stdout",
     "output_type": "stream",
     "text": [
      "Digite uma quantidade de termos para gerar a série Fibonacci: 10\n",
      "---------------------\n",
      " Sequência Fibonacci \n",
      "---------------------\n",
      "0 → 1 → 1 → 2 → 3 → 5 → 8 → 13 → 21 → 34 "
     ]
    }
   ],
   "source": [
    "# by geanclm by 12/03/2022 at 07:34h\n",
    "\n",
    "c, n1, n2 = 0, 0, 1\n",
    "\n",
    "n = int(input('Digite a quantidade de termos para gerar a série Fibonacci: '))\n",
    "\n",
    "texto =' Sequência Fibonacci '\n",
    "print ('-'*len(texto))\n",
    "print (texto)\n",
    "print ('-'*len(texto))\n",
    "\n",
    "print (f'{n1} → {n2}', end=' ')\n",
    "while c <= n-3:\n",
    "    n3 = n1+n2\n",
    "    print (f'→ {n3}', end=' ')\n",
    "    c += 1\n",
    "    n1 = n2\n",
    "    n2 = n3\n",
    "# print ('→ FIM')"
   ]
  },
  {
   "cell_type": "code",
   "execution_count": null,
   "metadata": {},
   "outputs": [],
   "source": []
  }
 ],
 "metadata": {
  "kernelspec": {
   "display_name": "Python 3",
   "language": "python",
   "name": "python3"
  },
  "language_info": {
   "codemirror_mode": {
    "name": "ipython",
    "version": 3
   },
   "file_extension": ".py",
   "mimetype": "text/x-python",
   "name": "python",
   "nbconvert_exporter": "python",
   "pygments_lexer": "ipython3",
   "version": "3.8.5"
  }
 },
 "nbformat": 4,
 "nbformat_minor": 4
}
