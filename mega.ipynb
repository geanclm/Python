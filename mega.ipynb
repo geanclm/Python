{
 "cells": [
  {
   "cell_type": "code",
   "execution_count": 1,
   "metadata": {},
   "outputs": [],
   "source": [
    "# GERADOR DE BILHETES DA Mega-sena\n",
    "# by geanclm in 07/04/2022 at 08:20h\n",
    "\n",
    "# Import libs\n",
    "from time import sleep\n",
    "import time, random\n",
    "from datetime import datetime, date\n",
    "from random import sample\n",
    "from pytz import timezone\n",
    "\n",
    "# date and hour local\n",
    "registro_data_e_hora_completo = time.ctime()\n",
    "hoje = datetime.now()\n",
    "fuso_horario = timezone(\"America/Sao_Paulo\")\n",
    "data_e_hora = hoje.astimezone(fuso_horario)\n",
    "agora = data_e_hora.strftime(\"%A %B %d/%m/%Y %H:%M\"+\"h\")"
   ]
  },
  {
   "cell_type": "code",
   "execution_count": 2,
   "metadata": {},
   "outputs": [
    {
     "name": "stdout",
     "output_type": "stream",
     "text": [
      "Número de bilhetes para listar? 2\n",
      "---------------------------------\n",
      "--| LOTÉRICA MENTE MILIONÁRIA |-- \n",
      "---------------------------------\n",
      "\n",
      "Gerando jogo(s)...\n",
      "\n",
      "-=-=-=-=-=-=-=-=-=-=-=-=-=-=-=-=\n",
      "Jogo1: [26, 27, 42, 43, 50, 57]\n",
      "Jogo2: [6, 15, 21, 37, 45, 47]\n",
      "-=-=-=-=-=-=-=-=-=-=-=-=-=-=-=-=\n",
      "Total de 2 bilhete(s) gerado(s)\n",
      "Valor bilhete 6 números: R$ 4.50\n",
      "Valor total a pagar: R$ 9.00\n",
      "---------------------------------\n",
      "  Mentalize, acredite e solte!   \n",
      "           BOA SORTE!            \n",
      "---------------------------------\n",
      "Saturday April 23/04/2022 15:48h \n",
      "---------------------------------\n"
     ]
    }
   ],
   "source": [
    "# inicializando variáveis\n",
    "jogos, i, custo = [],0,4.5\n",
    "local = '--| LOTÉRICA MENTE MILIONÁRIA |--'\n",
    "mensagem1 = 'Mentalize, acredite e solte!'\n",
    "mensagem2 = 'BOA SORTE!'\n",
    "\n",
    "# algorítmo\n",
    "bilhete = int(input(\"Número de bilhetes para listar? \"))\n",
    "while i < bilhete:\n",
    "    jogos.append(sorted(random.sample(range(1,60),6)))\n",
    "    i += 1\n",
    "print ('-'*33)\n",
    "print (f'{local:^34}')\n",
    "print ('-'*33)\n",
    "print (f'''\n",
    "Gerando jogo(s)...\n",
    "''')\n",
    "print ('-=' * 16)\n",
    "\n",
    "# saída das informações\n",
    "for i, jogo in enumerate(jogos):\n",
    "    sleep(1)\n",
    "    print (f'Jogo{(i+1):<1}: {jogo}')\n",
    "print ('-=' * 16)\n",
    "print (f'''Total de {bilhete} bilhete(s) gerado(s)''')\n",
    "print (f'''Valor bilhete 6 números: R$ {custo:,.2f}''')\n",
    "print (f'''Valor total a pagar: R$ {(custo*bilhete):,.2f}''')\n",
    "print (f'-'*33)\n",
    "print (f'{mensagem1:^33}')\n",
    "print (f'{mensagem2:^33}')\n",
    "print ('-'*33)\n",
    "print (f'{agora:^33}')\n",
    "print ('-'*33)"
   ]
  },
  {
   "cell_type": "code",
   "execution_count": null,
   "metadata": {},
   "outputs": [],
   "source": []
  }
 ],
 "metadata": {
  "kernelspec": {
   "display_name": "Python 3",
   "language": "python",
   "name": "python3"
  },
  "language_info": {
   "codemirror_mode": {
    "name": "ipython",
    "version": 3
   },
   "file_extension": ".py",
   "mimetype": "text/x-python",
   "name": "python",
   "nbconvert_exporter": "python",
   "pygments_lexer": "ipython3",
   "version": "3.8.5"
  }
 },
 "nbformat": 4,
 "nbformat_minor": 4
}
