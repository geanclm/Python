{
 "cells": [
  {
   "attachments": {
    "jokenpo.png": {
     "image/png": "[encoded data removed]"
    }
   },
   "cell_type": "markdown",
   "metadata": {},
   "source": [
    "![jokenpo.png](attachment:jokenpo.png)"
   ]
  },
  {
   "cell_type": "markdown",
   "metadata": {},
   "source": [
    "<a name=\"DHB\"></a>\n",
    "<center style=\"font-size:18pt; background-color:#0f79b6\">\n",
    "    <br/>\n",
    "        <b style=\"color: #ffffff\">\n",
    "            JOKEMPÔ\n",
    "            <br/>&nbsp;\n",
    "</center>"
   ]
  },
  {
   "cell_type": "code",
   "execution_count": 9,
   "metadata": {},
   "outputs": [],
   "source": [
    "# Python_para_ML_01: JOKEMPÔ\n",
    "# Crie uma função que simule o jogo do jokempô, isto é,\n",
    "# dada a entrada de dois jogadores, retorne a indicação de qual deles venceu."
   ]
  },
  {
   "cell_type": "code",
   "execution_count": 8,
   "metadata": {},
   "outputs": [
    {
     "name": "stdout",
     "output_type": "stream",
     "text": [
      "---------------------------------------------\n",
      "BEM VINDO,'Padawan', ao jogo \u001b[1mJokenpô \u001b[0m\n",
      "---------------------------------------------\n",
      "digite sua opção, jogador!\n",
      "[0] PEDRA\n",
      "[1] PAPEL\n",
      "[2] TESOURA\n",
      "2\n",
      "JO\n",
      "KEN\n",
      "PÔ\n",
      "=-=-=-=-=-=-=-=-=-=-\n",
      "O computador escolheu PEDRA\n",
      "O jogador escolheu TESOURA\n",
      "=-=-=-=-=-=-=-=-=-=-\n",
      " \n",
      "COMPUTADOR VENCEU!\n"
     ]
    }
   ],
   "source": [
    "# jogo Jokenpô\n",
    "# by geanclm in 26/06/2022 at 19:30h\n",
    "# =-=-=-=-=-=-=-=-=-=-=-=-=\n",
    "# jokenpô é um jogo em que as pessoas jogam com as mãos,\n",
    "# escolhendo entre pedra, papel e tesoura.\n",
    "# A tesoura corta o papel, mas quebra com a pedra;\n",
    "# o papel embrulha a pedra, mas é cortado pela tesoura\n",
    "# e a pedra quebra a tesoura e é embrulhada pelo papel.\n",
    "# =-=-=-=-=-=-=-=-=-=-=-=-=\n",
    "\n",
    "# importar bibliotecas \n",
    "from random import randint\n",
    "from time import sleep\n",
    "\n",
    "# definir variáveis\n",
    "itens = ('PEDRA','PAPEL','TESOURA')\n",
    "computador = randint(0,2)\n",
    "\n",
    "texto = \"BEM VINDO,'Padawan', ao jogo \\033[1mJokenpô \\033[0m\"\n",
    "print ('-'*len(texto))\n",
    "print(texto)\n",
    "print ('-'*len(texto))\n",
    "\n",
    "jogador = int(input(f'''digite sua opção, jogador!\n",
    "[0] PEDRA\n",
    "[1] PAPEL\n",
    "[2] TESOURA\n",
    "'''))\n",
    "print ('JO')\n",
    "sleep (1)\n",
    "print ('KEN')\n",
    "sleep (1)\n",
    "print ('PÔ')\n",
    "sleep (1)\n",
    "print ('=-' *10)\n",
    "print (f'O computador escolheu {itens[computador]}')\n",
    "print (f'O jogador escolheu {itens[jogador]}')\n",
    "print ('=-' *10)\n",
    "print (' ')\n",
    "\n",
    "# lógica principal\n",
    "if computador == 0:\n",
    "    if jogador == 0:\n",
    "        print ('EMPATE')\n",
    "    elif jogador == 1:\n",
    "        print ('JOGADOR VENCEU!')            \n",
    "    elif jogador == 2:\n",
    "        print ('COMPUTADOR VENCEU!')\n",
    "    else:\n",
    "        print ('jogada INVÁLDA!')\n",
    "elif computador == 1:\n",
    "    if jogador == 0:\n",
    "        print ('COMPUTADOR VENCEU')\n",
    "    elif jogador == 1:\n",
    "        print ('EMPATE')            \n",
    "    elif jogador == 2:\n",
    "        print ('JOGADOR VENCEU!')\n",
    "    else:\n",
    "        print ('jogada INVÁLDA!')\n",
    "elif computador == 2:\n",
    "    if jogador == 0:\n",
    "        print ('JOGADOR VENCEU')\n",
    "    elif jogador == 1:\n",
    "        print ('COMPUTADOR VENCEU')            \n",
    "    elif jogador == 2:\n",
    "        print ('EMTAPE!')\n",
    "    else:\n",
    "        print ('jogada INVÁLDA!')"
   ]
  }
 ],
 "metadata": {
  "kernelspec": {
   "display_name": "Python 3",
   "language": "python",
   "name": "python3"
  },
  "language_info": {
   "codemirror_mode": {
    "name": "ipython",
    "version": 3
   },
   "file_extension": ".py",
   "mimetype": "text/x-python",
   "name": "python",
   "nbconvert_exporter": "python",
   "pygments_lexer": "ipython3",
   "version": "3.8.5"
  }
 },
 "nbformat": 4,
 "nbformat_minor": 4
}
