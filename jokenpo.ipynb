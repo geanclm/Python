{
 "cells": [
  {
   "cell_type": "code",
   "execution_count": 1,
   "metadata": {},
   "outputs": [
    {
     "name": "stdout",
     "output_type": "stream",
     "text": [
      "digite sua opção, jogador!\n",
      "[0] PEDRA\n",
      "[1] PAPEL\n",
      "[2] TESOURA\n",
      "2\n",
      "JO\n",
      "KEN\n",
      "PÔ\n",
      "=-=-=-=-=-=-=-=-=-=-\n",
      "computador escolheu PAPEL\n",
      "jogador escolheu TESOURA\n",
      "=-=-=-=-=-=-=-=-=-=-\n",
      "JGOADOR VENCEU!\n"
     ]
    }
   ],
   "source": [
    "# jogo do Jokenpô\n",
    "# by geanclm in 17/05/2022\n",
    "\n",
    "# =-=-=-=-=-=-=-=-=-=-=-=-=\n",
    "# jokenpô é um jogo em que as pessoas jogam com as mãos,\n",
    "# escolhendo entre pedra, papel e tesoura.\n",
    "# A tesoura corta o papel, mas quebra com a pedra;\n",
    "# o papel embrulha a pedra, mas é cortado pela tesoura\n",
    "# e a pedra quebra a tesoura e é embrulhada pelo papel.\n",
    "# =-=-=-=-=-=-=-=-=-=-=-=-=\n",
    "\n",
    "from random import randint\n",
    "from time import sleep\n",
    "itens = ('PEDRA','PAPEL','TESOURA')\n",
    "computador = randint(0,2)\n",
    "\n",
    "texto ='BEM VINDO \"Padawan\" ao jogo Jokenpô!'\n",
    "print ('-'*len(texto))\n",
    "print(texto)\n",
    "print ('-'*len(texto))\n",
    "\n",
    "jogador = int(input(f'''digite sua opção, jogador!\n",
    "[0] PEDRA\n",
    "[1] PAPEL\n",
    "[2] TESOURA\n",
    "'''))\n",
    "print ('JO')\n",
    "sleep (1)\n",
    "print ('KEN')\n",
    "sleep (1)\n",
    "print ('PÔ')\n",
    "sleep (1)\n",
    "print ('=-' *10)\n",
    "print (f'computador escolheu {itens[computador]}')\n",
    "print (f'jogador escolheu {itens[jogador]}')\n",
    "print ('=-' *10)\n",
    "if computador == 0:\n",
    "    if jogador == 0:\n",
    "        print ('EMPATE')\n",
    "    elif jogador == 1:\n",
    "        print ('JOGADOR VENCEU!')            \n",
    "    elif jogador == 2:\n",
    "        print ('COMPUTADOR VENCEU!')\n",
    "    else:\n",
    "        print ('jogada INVÁLDA!')\n",
    "elif computador == 1:\n",
    "    if jogador == 0:\n",
    "        print ('COMPUTADOR VENCEU')\n",
    "    elif jogador == 1:\n",
    "        print ('EMPATE')            \n",
    "    elif jogador == 2:\n",
    "        print ('JOGADOR VENCEU!')\n",
    "    else:\n",
    "        print ('jogada INVÁLDA!')\n",
    "elif computador == 2:\n",
    "    if jogador == 0:\n",
    "        print ('JOGADOR VENCEU')\n",
    "    elif jogador == 1:\n",
    "        print ('COMPUTADOR VENCEU')            \n",
    "    elif jogador == 2:\n",
    "        print ('EMTAPE!')\n",
    "    else:\n",
    "        print ('jogada INVÁLDA!')"
   ]
  }
 ],
 "metadata": {
  "kernelspec": {
   "display_name": "Python 3",
   "language": "python",
   "name": "python3"
  },
  "language_info": {
   "codemirror_mode": {
    "name": "ipython",
    "version": 3
   },
   "file_extension": ".py",
   "mimetype": "text/x-python",
   "name": "python",
   "nbconvert_exporter": "python",
   "pygments_lexer": "ipython3",
   "version": "3.8.5"
  }
 },
 "nbformat": 4,
 "nbformat_minor": 4
}
