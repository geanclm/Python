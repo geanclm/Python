{
 "cells": [
  {
   "cell_type": "markdown",
   "metadata": {},
   "source": [
    "# Estudando a série fibonacci"
   ]
  },
  {
   "cell_type": "code",
   "execution_count": 3,
   "metadata": {},
   "outputs": [],
   "source": [
    "import time"
   ]
  },
  {
   "cell_type": "code",
   "execution_count": 8,
   "metadata": {},
   "outputs": [
    {
     "name": "stdout",
     "output_type": "stream",
     "text": [
      "Digite a quantidade de termos para gerar a série Fibonacci: 21\n",
      "---------------------\n",
      " Sequência Fibonacci \n",
      "---------------------\n",
      "0 → 1 → 1 → 2 → 3 → 5 → 8 → 13 → 21 → 34 → 55 → 89 → 144 → 233 → 377 → 610 → 987 → 1597 → 2584 → 4181 → 6765 \n",
      "0.0009968280792236328\n"
     ]
    }
   ],
   "source": [
    "# by geanclm by 12/03/2022 at 07:34h\n",
    "\n",
    "c, n1, n2 = 0, 0, 1\n",
    "\n",
    "n = int(input('Digite a quantidade de termos para gerar a série Fibonacci: '))\n",
    "start_time = time.time()\n",
    "\n",
    "texto =' Sequência Fibonacci '\n",
    "print ('-'*len(texto))\n",
    "print (texto)\n",
    "print ('-'*len(texto))\n",
    "\n",
    "print (f'{n1} → {n2}', end=' ')\n",
    "while c <= n-3:\n",
    "    n3 = n1+n2\n",
    "    print (f'→ {n3}', end=' ')\n",
    "    c += 1\n",
    "    n1 = n2\n",
    "    n2 = n3\n",
    "end_time = time.time()\n",
    "print(f'\\n{end_time - start_time}')\n",
    "# print ('→ FIM')"
   ]
  },
  {
   "cell_type": "code",
   "execution_count": 26,
   "metadata": {},
   "outputs": [
    {
     "name": "stdout",
     "output_type": "stream",
     "text": [
      "1\n",
      "2\n",
      "1\n",
      "2\n",
      "0.000997304916381836\n"
     ]
    }
   ],
   "source": [
    "def fib_python(n):\n",
    "    if n == 0 or n == 1:\n",
    "        return n\n",
    "    print (fib_python(n-1) + fib_python(n-2))\n",
    "    return fib_python(n-1) + fib_python(n-2)    \n",
    "start_time = time.time()\n",
    "print(fib_python(3))\n",
    "end_time = time.time()\n",
    "print(f'{end_time - start_time}')"
   ]
  },
  {
   "cell_type": "code",
   "execution_count": null,
   "metadata": {},
   "outputs": [],
   "source": []
  }
 ],
 "metadata": {
  "kernelspec": {
   "display_name": "Python 3",
   "language": "python",
   "name": "python3"
  },
  "language_info": {
   "codemirror_mode": {
    "name": "ipython",
    "version": 3
   },
   "file_extension": ".py",
   "mimetype": "text/x-python",
   "name": "python",
   "nbconvert_exporter": "python",
   "pygments_lexer": "ipython3",
   "version": "3.8.5"
  },
  "varInspector": {
   "cols": {
    "lenName": 16,
    "lenType": 16,
    "lenVar": 40
   },
   "kernels_config": {
    "python": {
     "delete_cmd_postfix": "",
     "delete_cmd_prefix": "del ",
     "library": "var_list.py",
     "varRefreshCmd": "print(var_dic_list())"
    },
    "r": {
     "delete_cmd_postfix": ") ",
     "delete_cmd_prefix": "rm(",
     "library": "var_list.r",
     "varRefreshCmd": "cat(var_dic_list()) "
    }
   },
   "types_to_exclude": [
    "module",
    "function",
    "builtin_function_or_method",
    "instance",
    "_Feature"
   ],
   "window_display": false
  }
 },
 "nbformat": 4,
 "nbformat_minor": 4
}
