{
 "cells": [
  {
   "cell_type": "markdown",
   "metadata": {},
   "source": [
    "# Estudos com o número primo"
   ]
  },
  {
   "cell_type": "code",
   "execution_count": 1,
   "metadata": {},
   "outputs": [],
   "source": [
    "import pandas as pd\n",
    "import numpy as np"
   ]
  },
  {
   "cell_type": "code",
   "execution_count": 2,
   "metadata": {},
   "outputs": [],
   "source": [
    "# variável utililzada em todos os testes\n",
    "n = 10"
   ]
  },
  {
   "cell_type": "code",
   "execution_count": 52,
   "metadata": {},
   "outputs": [
    {
     "name": "stdout",
     "output_type": "stream",
     "text": [
      "[2, 3, 5, 7, 11, 13, 17, 19, 23]\n",
      "---------------------------------\n",
      "<class 'list'>\n",
      "quantidade de valores: 9\n"
     ]
    }
   ],
   "source": [
    "# ESTUDOS E TESTES [lista]\n",
    "# LISTAR NÚMEROS PRIMOS com numpy\n",
    "# ---\n",
    "# by geanclm in 03/03/2022\n",
    "# ---\n",
    "primos = []\n",
    "for i in np.arange(n):\n",
    "    if i > 1:\n",
    "            for j in range(2,i):\n",
    "                if(i%j==0):\n",
    "                    break\n",
    "            else:\n",
    "                primos.append(i)\n",
    "# ---\n",
    "print (primos)\n",
    "print ('-'*33)\n",
    "print (type(primos))\n",
    "print (f'quantidade de valores: {len(primos)}')"
   ]
  },
  {
   "cell_type": "code",
   "execution_count": 53,
   "metadata": {},
   "outputs": [
    {
     "name": "stdout",
     "output_type": "stream",
     "text": [
      "[ 1  3  5  7  9 11 13 15 17 19 21 23 25 27 29]\n",
      "<class 'numpy.ndarray'>\n",
      "Qtd ÍMPARES na amostra: 15\n",
      "---------------------------------\n",
      "[ 2  3  5  7 11 13 17 19 23 29]\n",
      "<class 'numpy.ndarray'>\n",
      "Qtd PRIMOS encontrados: 10\n",
      "---------------------------------\n"
     ]
    },
    {
     "data": {
      "text/html": [
       "<div>\n",
       "<style scoped>\n",
       "    .dataframe tbody tr th:only-of-type {\n",
       "        vertical-align: middle;\n",
       "    }\n",
       "\n",
       "    .dataframe tbody tr th {\n",
       "        vertical-align: top;\n",
       "    }\n",
       "\n",
       "    .dataframe thead th {\n",
       "        text-align: right;\n",
       "    }\n",
       "</style>\n",
       "<table border=\"1\" class=\"dataframe\">\n",
       "  <thead>\n",
       "    <tr style=\"text-align: right;\">\n",
       "      <th></th>\n",
       "      <th>amostra</th>\n",
       "      <th>pares</th>\n",
       "      <th>ímpares</th>\n",
       "      <th>primos</th>\n",
       "    </tr>\n",
       "  </thead>\n",
       "  <tbody>\n",
       "    <tr>\n",
       "      <th>0</th>\n",
       "      <td>29</td>\n",
       "      <td>14</td>\n",
       "      <td>15</td>\n",
       "      <td>10</td>\n",
       "    </tr>\n",
       "  </tbody>\n",
       "</table>\n",
       "</div>"
      ],
      "text/plain": [
       "   amostra  pares  ímpares  primos\n",
       "0       29     14       15      10"
      ]
     },
     "execution_count": 53,
     "metadata": {},
     "output_type": "execute_result"
    }
   ],
   "source": [
    "# ESTUDOS E TESTES (array)\n",
    "# LISTAR NÚMEROS PRIMOS com numpy\n",
    "# ---\n",
    "# by geanclm in 21/04/2022 at 11:47h\n",
    "# ---\n",
    "numbers = []\n",
    "primos = [2]\n",
    "pares = (np.arange(2,n+1)[np.where((np.arange(2,n+1))%2==0)])\n",
    "ímpares = (np.arange(0,n+1)[np.where((np.arange(0,n+1))%2!=0)])\n",
    "# sr = int(n**(0.5)) # condição da raíz quadrada\n",
    "\n",
    "# for i in (np.array([x for x in range(2, n) if x%2!=0])):  # restrição ao universo dos ímpares para otimizar esforço computacional\n",
    "\n",
    "# refinamento no código para selecionar somente os ímpares com numpy\n",
    "# by geanclm in 16/05/2022 at 20:24h\n",
    "for i in (np.arange(2,n+1)[np.where((np.arange(2,n+1))%2!=0)]):\n",
    "    \n",
    "    if i > 1:\n",
    "        numbers.append(i)\n",
    "        for j in range(2,i):\n",
    "            if(i%j==0):\n",
    "                break\n",
    "        else: \n",
    "            primos.append(i)\n",
    "# ---\n",
    "arrayPrimos = np.array(primos)\n",
    "# ---\n",
    "print (ímpares)\n",
    "print (type(ímpares))\n",
    "print (f'Qtd ÍMPARES na amostra: {len(ímpares)}')\n",
    "print ('-'*33)\n",
    "print (arrayPrimos)\n",
    "print (type(arrayPrimos))\n",
    "print (f'Qtd PRIMOS encontrados: {len(arrayPrimos)}')\n",
    "# print ('-'*33)\n",
    "# print ('''Observação: O número \"2\" é o único primo par\n",
    "# e por isso é considerado por padrão no início da série.''')\n",
    "print ('-'*33)\n",
    "df = pd.DataFrame({'amostra':[n],\n",
    "                    'pares':[len(pares)],\n",
    "                    'ímpares':[len(ímpares)],\n",
    "                    'primos':[len(arrayPrimos)]},\n",
    "                   index=['0'])\n",
    "df"
   ]
  },
  {
   "cell_type": "code",
   "execution_count": 6,
   "metadata": {},
   "outputs": [],
   "source": [
    "import time"
   ]
  },
  {
   "cell_type": "code",
   "execution_count": 45,
   "metadata": {},
   "outputs": [
    {
     "name": "stdout",
     "output_type": "stream",
     "text": [
      "---------------------------------\n",
      "O número\u001b[1m 29 \u001b[0mé PRIMO\n",
      "---------------------------------\n",
      "Expressão númerica com 2 dígito(s)\n",
      "---------------------------------\n",
      "Tempo total de verificação: 0.0 segundos\n"
     ]
    }
   ],
   "source": [
    "# ESTUDO PARTICULAR PARA TESTAR NÚMERO PRIMO\n",
    "# VERIFICADOR DE NÚMERO PRIMO - contando o tempo de execução\n",
    "# Objetivo: otimizar a verificação e teste de um número primo\n",
    "# by geanclm in 12/03/2022 at 19:55h\n",
    "\n",
    "# 1 - utilizar o recurso da raiz quadrada\n",
    "# 2 - reduzir o range ao universo dos ímpares\n",
    "# 3 - verificar tempo de execução do script\n",
    "# 4 - testar a divisão pelos próprios números primos até a condição de divisor >= quociente\n",
    "# 5 - números primos para testar: 99991, 4999, 30011\n",
    "\n",
    "ti = time.time() # registrar o tempo incial de execução\n",
    "\n",
    "# valores para teste:\n",
    "n = 29 # O número 99991999913131313 NÃO é primo\n",
    "# n = 999919991313 # O número 99991999913131313 NÃO é primo\n",
    "# n = 99991999913131313 # O número 99991999913131313 NÃO é primo\n",
    "\n",
    "def primo(n):\n",
    "    r = int(n**(0.5))\n",
    "    for i in ([x for x in range(2, r+1) if x%2!=0]):\n",
    "#         print (i, end=' ') # números pares não precisam de verificação!!!!\n",
    "        if (n % i == 0):\n",
    "            return False\n",
    "    return True\n",
    "# time.sleep(2)\n",
    "# tf = time.time() # registrar o tempo final de execução\n",
    "\n",
    "# n = int(input(\"número para verificar: \"))\n",
    "\n",
    "dig = f'Expressão númerica com {len(str(n))} dígito(s)'\n",
    "if primo(n):\n",
    "    textoPrimo = f\"O número\\033[1m {n} \\033[0mé PRIMO\"\n",
    "else:\n",
    "    textoPrimo = f\"O número\\033[1m {n} \\033[0mNÃO é primo\"\n",
    "tf = time.time() # registrar o tempo final de execução\n",
    "print ('-'*33)\n",
    "print (textoPrimo)\n",
    "print ('-'*33)\n",
    "print (dig)\n",
    "print ('-'*33)\n",
    "print(f'''Tempo total de verificação: {tf - ti} segundos''')"
   ]
  },
  {
   "cell_type": "code",
   "execution_count": 50,
   "metadata": {},
   "outputs": [
    {
     "name": "stdout",
     "output_type": "stream",
     "text": [
      "[ 3  5  7  9 11 13 15 17 19 21 23 25 27]\n"
     ]
    }
   ],
   "source": [
    "# em estudo...\n",
    "# ausência de dados no resultado final\n",
    "# testar redução de amostras numéricas para reduzir esforço computacional\n",
    "# array = np.array([x for x in range(2, n) if x%2!=0 and x%3!=0 and x%5!=0])\n",
    "array = np.array([x for x in range(2, n) if x%2!=0])\n",
    "print(array)"
   ]
  },
  {
   "cell_type": "code",
   "execution_count": null,
   "metadata": {},
   "outputs": [],
   "source": [
    "# resultado da expressão geradora de números primos\n",
    "# 2 3 5 7 11 13 17 19 23 29 31 37 41 43 47 53 59"
   ]
  },
  {
   "cell_type": "code",
   "execution_count": 49,
   "metadata": {},
   "outputs": [
    {
     "data": {
      "text/plain": [
       "array([ 2,  3,  5,  7, 11, 13, 17, 19, 23, 29, 31, 37, 41, 43, 47, 53, 59])"
      ]
     },
     "execution_count": 49,
     "metadata": {},
     "output_type": "execute_result"
    }
   ],
   "source": [
    "# ESTUDOS com o numpy\n",
    "# LISTAR sequência de números primos com o numpy\n",
    "# by geanclm in 21/04/2022 at 10:50h\n",
    "a = np.arange(0,60,1)\n",
    "def is_prime(n):\n",
    "    if n%2 == 0 and n > 2: \n",
    "        return False\n",
    "    elif n <= 0 or n == 1: \n",
    "        return False\n",
    "    return all(n%i for i in range(3, int(n**1/2)+1, 2))\n",
    "np.extract(np.vectorize(is_prime)(a),a)"
   ]
  },
  {
   "cell_type": "code",
   "execution_count": 34,
   "metadata": {},
   "outputs": [
    {
     "name": "stdout",
     "output_type": "stream",
     "text": [
      "5 7 11 13 17 19 23 25 29 31 35 37 41 43 47 49 "
     ]
    }
   ],
   "source": [
    "# testes\n",
    "for i in ([x for x in range(3, 50+1) if x%2!=0 and x%3!=0]):\n",
    "    print (i, end=' ')"
   ]
  }
 ],
 "metadata": {
  "kernelspec": {
   "display_name": "Python 3",
   "language": "python",
   "name": "python3"
  },
  "language_info": {
   "codemirror_mode": {
    "name": "ipython",
    "version": 3
   },
   "file_extension": ".py",
   "mimetype": "text/x-python",
   "name": "python",
   "nbconvert_exporter": "python",
   "pygments_lexer": "ipython3",
   "version": "3.8.5"
  }
 },
 "nbformat": 4,
 "nbformat_minor": 4
}
