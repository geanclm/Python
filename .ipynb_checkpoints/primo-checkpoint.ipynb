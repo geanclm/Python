{
 "cells": [
  {
   "cell_type": "markdown",
   "metadata": {},
   "source": [
    "# Estudos com o número primo"
   ]
  },
  {
   "cell_type": "code",
   "execution_count": 2,
   "metadata": {},
   "outputs": [],
   "source": [
    "import numpy as np"
   ]
  },
  {
   "cell_type": "code",
   "execution_count": 9,
   "metadata": {},
   "outputs": [
    {
     "name": "stdout",
     "output_type": "stream",
     "text": [
      "2 3 5 7 11 13 17 19 23 29 31 37 41 43 47 53 59 "
     ]
    }
   ],
   "source": [
    "# LISTAR NÚMEROS PRIMOS com numpy\n",
    "# by geanclm in 03/03/2022\n",
    "\n",
    "n = 61\n",
    "for i in np.arange(n):\n",
    "    if i > 1: \n",
    "        for j in range(2,i):\n",
    "            if(i%j==0):\n",
    "                break\n",
    "        else: \n",
    "            print(i, end=' ')"
   ]
  },
  {
   "cell_type": "code",
   "execution_count": 6,
   "metadata": {},
   "outputs": [
    {
     "name": "stdout",
     "output_type": "stream",
     "text": [
      "número para verificar: 57\n",
      "\n",
      "    O número 57 NÃO é primo\n",
      "\n",
      "Tempo total de execução: 0.0 segundos\n"
     ]
    }
   ],
   "source": [
    "# VERIFICADOR DE NÚMERO PRIMO\n",
    "# Objetivo: otimizar a verificação de um número primo\n",
    "# by geanclm in 12/03/2022 at 19:55h\n",
    "\n",
    "# 1 - utilizar o recurso da raiz quadrada\n",
    "# 2 - reduzir o range ao universo dos ímpares\n",
    "# 3 - verificar tempo de execução do script\n",
    "# 4 - testar a divisão pelos próprios números primos até a condição de divisor >= quociente\n",
    "# 5 - números primos para testar: 99991, 4999, 30011\n",
    "\n",
    "import time\n",
    "ti = time.time() # registrar o tempo incial de execução\n",
    "def primo(n):\n",
    "    r = int(n**(0.5))\n",
    "    for i in ([x for x in range(2, r+1) if x%2!=0]):\n",
    "#         print (i, end=' ') # a verificação está passando por números pares e não precisa!!!!\n",
    "        if (n % i == 0):\n",
    "            return False\n",
    "    return True\n",
    "# time.sleep(2)\n",
    "tf = time.time() # registrar o tempo final de execução\n",
    "\n",
    "n = int(input(\"número para verificar: \"))\n",
    "\n",
    "if primo(n):\n",
    "    print(f'''\n",
    "    O número {n} é PRIMO''')\n",
    "else:\n",
    "    print(f'''\n",
    "    O número {n} NÃO é primo''')\n",
    "\n",
    "print(f'''\n",
    "Tempo total de execução: {tf - ti} segundos''')"
   ]
  },
  {
   "cell_type": "code",
   "execution_count": 8,
   "metadata": {},
   "outputs": [
    {
     "data": {
      "text/plain": [
       "[7, 11, 13, 17, 19, 23, 29, 31, 37, 41, 43, 47, 49, 53, 59]"
      ]
     },
     "execution_count": 8,
     "metadata": {},
     "output_type": "execute_result"
    }
   ],
   "source": [
    "# em estudo...\n",
    "# testar a redução de amostras numéricas para reduzir esforço o computacional na verificação\n",
    "n = 61\n",
    "[x for x in range(2, n) if x%2!=0 and x%3!=0 and x%5!=0]"
   ]
  },
  {
   "cell_type": "code",
   "execution_count": null,
   "metadata": {},
   "outputs": [],
   "source": [
    "# resultado da expressão geradora de números primos\n",
    "# 2 3 5 7 11 13 17 19 23 29 31 37 41 43 47 53 59"
   ]
  }
 ],
 "metadata": {
  "kernelspec": {
   "display_name": "Python 3",
   "language": "python",
   "name": "python3"
  },
  "language_info": {
   "codemirror_mode": {
    "name": "ipython",
    "version": 3
   },
   "file_extension": ".py",
   "mimetype": "text/x-python",
   "name": "python",
   "nbconvert_exporter": "python",
   "pygments_lexer": "ipython3",
   "version": "3.8.5"
  }
 },
 "nbformat": 4,
 "nbformat_minor": 4
}
