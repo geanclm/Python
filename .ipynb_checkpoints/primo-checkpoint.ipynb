{
 "cells": [
  {
   "cell_type": "markdown",
   "metadata": {},
   "source": [
    "# Estudos com o número primo"
   ]
  },
  {
   "cell_type": "code",
   "execution_count": 66,
   "metadata": {},
   "outputs": [],
   "source": [
    "import pandas as pd\n",
    "import numpy as np"
   ]
  },
  {
   "cell_type": "code",
   "execution_count": 59,
   "metadata": {},
   "outputs": [],
   "source": [
    "# variável utililzada em todos os testes\n",
    "n = 1000"
   ]
  },
  {
   "cell_type": "code",
   "execution_count": 27,
   "metadata": {},
   "outputs": [
    {
     "name": "stdout",
     "output_type": "stream",
     "text": [
      "[2, 3, 5, 7, 11, 13, 17, 19, 23, 29, 31, 37, 41, 43, 47, 53, 59, 61, 67, 71, 73, 79, 83, 89, 97, 101, 103, 107, 109, 113, 127, 131, 137, 139, 149, 151, 157, 163, 167, 173, 179, 181, 191, 193, 197, 199, 211, 223, 227, 229, 233, 239, 241, 251, 257, 263, 269, 271, 277, 281, 283, 293, 307, 311, 313, 317, 331, 337, 347, 349, 353, 359, 367, 373, 379, 383, 389, 397, 401, 409, 419, 421, 431, 433, 439, 443, 449, 457, 461, 463, 467, 479, 487, 491, 499, 503, 509, 521, 523, 541, 547, 557, 563, 569, 571, 577, 587, 593, 599, 601, 607, 613, 617, 619, 631, 641, 643, 647, 653, 659, 661, 673, 677, 683, 691, 701, 709, 719, 727, 733, 739, 743, 751, 757, 761, 769, 773, 787, 797, 809, 811, 821, 823, 827, 829, 839, 853, 857, 859, 863, 877, 881, 883, 887, 907, 911, 919, 929, 937, 941, 947, 953, 967, 971, 977, 983, 991, 997]\n",
      "---------------------------------\n",
      "<class 'list'>\n",
      "quantidade de valores: 168\n"
     ]
    }
   ],
   "source": [
    "# ESTUDOS E TESTES [lista]\n",
    "# LISTAR NÚMEROS PRIMOS com numpy\n",
    "# ---\n",
    "# by geanclm in 03/03/2022\n",
    "# ---\n",
    "primos = []\n",
    "for i in np.arange(n):\n",
    "    if i > 1:\n",
    "            for j in range(2,i):\n",
    "                if(i%j==0):\n",
    "                    break\n",
    "            else:\n",
    "                primos.append(i)\n",
    "# ---\n",
    "print (primos)\n",
    "print ('-'*33)\n",
    "print (type(primos))\n",
    "print (f'quantidade de valores: {len(primos)}')"
   ]
  },
  {
   "cell_type": "code",
   "execution_count": 63,
   "metadata": {},
   "outputs": [
    {
     "name": "stdout",
     "output_type": "stream",
     "text": [
      "[3, 5, 7, 9, 11, 13, 15, 17, 19, 21, 23, 25, 27, 29, 31, 33, 35, 37, 39, 41, 43, 45, 47, 49, 51, 53, 55, 57, 59, 61, 63, 65, 67, 69, 71, 73, 75, 77, 79, 81, 83, 85, 87, 89, 91, 93, 95, 97, 99, 101, 103, 105, 107, 109, 111, 113, 115, 117, 119, 121, 123, 125, 127, 129, 131, 133, 135, 137, 139, 141, 143, 145, 147, 149, 151, 153, 155, 157, 159, 161, 163, 165, 167, 169, 171, 173, 175, 177, 179, 181, 183, 185, 187, 189, 191, 193, 195, 197, 199, 201, 203, 205, 207, 209, 211, 213, 215, 217, 219, 221, 223, 225, 227, 229, 231, 233, 235, 237, 239, 241, 243, 245, 247, 249, 251, 253, 255, 257, 259, 261, 263, 265, 267, 269, 271, 273, 275, 277, 279, 281, 283, 285, 287, 289, 291, 293, 295, 297, 299, 301, 303, 305, 307, 309, 311, 313, 315, 317, 319, 321, 323, 325, 327, 329, 331, 333, 335, 337, 339, 341, 343, 345, 347, 349, 351, 353, 355, 357, 359, 361, 363, 365, 367, 369, 371, 373, 375, 377, 379, 381, 383, 385, 387, 389, 391, 393, 395, 397, 399, 401, 403, 405, 407, 409, 411, 413, 415, 417, 419, 421, 423, 425, 427, 429, 431, 433, 435, 437, 439, 441, 443, 445, 447, 449, 451, 453, 455, 457, 459, 461, 463, 465, 467, 469, 471, 473, 475, 477, 479, 481, 483, 485, 487, 489, 491, 493, 495, 497, 499, 501, 503, 505, 507, 509, 511, 513, 515, 517, 519, 521, 523, 525, 527, 529, 531, 533, 535, 537, 539, 541, 543, 545, 547, 549, 551, 553, 555, 557, 559, 561, 563, 565, 567, 569, 571, 573, 575, 577, 579, 581, 583, 585, 587, 589, 591, 593, 595, 597, 599, 601, 603, 605, 607, 609, 611, 613, 615, 617, 619, 621, 623, 625, 627, 629, 631, 633, 635, 637, 639, 641, 643, 645, 647, 649, 651, 653, 655, 657, 659, 661, 663, 665, 667, 669, 671, 673, 675, 677, 679, 681, 683, 685, 687, 689, 691, 693, 695, 697, 699, 701, 703, 705, 707, 709, 711, 713, 715, 717, 719, 721, 723, 725, 727, 729, 731, 733, 735, 737, 739, 741, 743, 745, 747, 749, 751, 753, 755, 757, 759, 761, 763, 765, 767, 769, 771, 773, 775, 777, 779, 781, 783, 785, 787, 789, 791, 793, 795, 797, 799, 801, 803, 805, 807, 809, 811, 813, 815, 817, 819, 821, 823, 825, 827, 829, 831, 833, 835, 837, 839, 841, 843, 845, 847, 849, 851, 853, 855, 857, 859, 861, 863, 865, 867, 869, 871, 873, 875, 877, 879, 881, 883, 885, 887, 889, 891, 893, 895, 897, 899, 901, 903, 905, 907, 909, 911, 913, 915, 917, 919, 921, 923, 925, 927, 929, 931, 933, 935, 937, 939, 941, 943, 945, 947, 949, 951, 953, 955, 957, 959, 961, 963, 965, 967, 969, 971, 973, 975, 977, 979, 981, 983, 985, 987, 989, 991, 993, 995, 997, 999]\n",
      "---------------------------------\n",
      "<class 'list'>\n",
      "quantidade de números ímpares na lista: 499\n",
      "\n",
      "\n",
      "[  2   3   5   7  11  13  17  19  23  29  31  37  41  43  47  53  59  61\n",
      "  67  71  73  79  83  89  97 101 103 107 109 113 127 131 137 139 149 151\n",
      " 157 163 167 173 179 181 191 193 197 199 211 223 227 229 233 239 241 251\n",
      " 257 263 269 271 277 281 283 293 307 311 313 317 331 337 347 349 353 359\n",
      " 367 373 379 383 389 397 401 409 419 421 431 433 439 443 449 457 461 463\n",
      " 467 479 487 491 499 503 509 521 523 541 547 557 563 569 571 577 587 593\n",
      " 599 601 607 613 617 619 631 641 643 647 653 659 661 673 677 683 691 701\n",
      " 709 719 727 733 739 743 751 757 761 769 773 787 797 809 811 821 823 827\n",
      " 829 839 853 857 859 863 877 881 883 887 907 911 919 929 937 941 947 953\n",
      " 967 971 977 983 991 997]\n",
      "---------------------------------\n",
      "<class 'numpy.ndarray'>\n",
      "PRIMOS encontrados: 168\n",
      "Observação: O número \"2\" é o único primo par\n",
      "e por isso é considerado por padrão no início da série\n"
     ]
    }
   ],
   "source": [
    "# ESTUDOS E TESTES (array)\n",
    "# LISTAR NÚMEROS PRIMOS com numpy\n",
    "# ---\n",
    "# by geanclm in 21/04/2022 at 11:47h\n",
    "# ---\n",
    "numbers = []\n",
    "primos = [2]\n",
    "\n",
    "# sr = int(n**(0.5)) # condição da raíz quadrada\n",
    "for i in (np.array([x for x in range(2, n) if x%2!=0])):  # restrição ao universo dos ímpares para otimizar esforço computacional\n",
    "    if i > 1:\n",
    "        numbers.append(i)\n",
    "        for j in range(2,i):\n",
    "            if(i%j==0):\n",
    "                break\n",
    "        else: \n",
    "            primos.append(i)\n",
    "# ---\n",
    "arrayPrimos = np.array(primos)\n",
    "# ---\n",
    "print (numbers)\n",
    "print ('-'*33)\n",
    "print (type(numbers))\n",
    "print (f'quantidade de números ímpares na lista: {len(numbers)}')\n",
    "print ()\n",
    "print ()\n",
    "print (arrayPrimos)\n",
    "print ('-'*33)\n",
    "print (type(arrayPrimos))\n",
    "print (f'PRIMOS encontrados: {len(arrayPrimos)}')\n",
    "print ('''Observação: O número \"2\" é o único primo par\n",
    "e por isso é considerado por padrão no início da série.''')"
   ]
  },
  {
   "cell_type": "code",
   "execution_count": 71,
   "metadata": {},
   "outputs": [
    {
     "data": {
      "text/html": [
       "<div>\n",
       "<style scoped>\n",
       "    .dataframe tbody tr th:only-of-type {\n",
       "        vertical-align: middle;\n",
       "    }\n",
       "\n",
       "    .dataframe tbody tr th {\n",
       "        vertical-align: top;\n",
       "    }\n",
       "\n",
       "    .dataframe thead th {\n",
       "        text-align: right;\n",
       "    }\n",
       "</style>\n",
       "<table border=\"1\" class=\"dataframe\">\n",
       "  <thead>\n",
       "    <tr style=\"text-align: right;\">\n",
       "      <th></th>\n",
       "      <th>range</th>\n",
       "      <th>odd</th>\n",
       "      <th>cousins</th>\n",
       "    </tr>\n",
       "  </thead>\n",
       "  <tbody>\n",
       "    <tr>\n",
       "      <th>0</th>\n",
       "      <td>1000</td>\n",
       "      <td>499</td>\n",
       "      <td>168</td>\n",
       "    </tr>\n",
       "  </tbody>\n",
       "</table>\n",
       "</div>"
      ],
      "text/plain": [
       "   range  odd  cousins\n",
       "0   1000  499      168"
      ]
     },
     "execution_count": 71,
     "metadata": {},
     "output_type": "execute_result"
    }
   ],
   "source": [
    "df = pd.DataFrame({'range':[n],\n",
    "                    'odd':[len(numbers)],\n",
    "                    'cousins':[len(arrayPrimos)]},\n",
    "                   index=['0'])\n",
    "# range = alcance\n",
    "# odd = ímpares\n",
    "# cousins = primos\n",
    "df"
   ]
  },
  {
   "cell_type": "code",
   "execution_count": 72,
   "metadata": {},
   "outputs": [
    {
     "data": {
      "text/plain": [
       "168"
      ]
     },
     "execution_count": 72,
     "metadata": {},
     "output_type": "execute_result"
    }
   ],
   "source": [
    "12*14"
   ]
  },
  {
   "cell_type": "code",
   "execution_count": 36,
   "metadata": {},
   "outputs": [
    {
     "name": "stdout",
     "output_type": "stream",
     "text": [
      "número para verificar: 1000\n",
      "\n",
      "    O número 1000 NÃO é primo\n",
      "\n",
      "Tempo total de execução: 0.0 segundos\n"
     ]
    }
   ],
   "source": [
    "# VERIFICADOR DE NÚMERO PRIMO\n",
    "# Objetivo: otimizar a verificação de um número primo\n",
    "# by geanclm in 12/03/2022 at 19:55h\n",
    "\n",
    "# 1 - utilizar o recurso da raiz quadrada\n",
    "# 2 - reduzir o range ao universo dos ímpares\n",
    "# 3 - verificar tempo de execução do script\n",
    "# 4 - testar a divisão pelos próprios números primos até a condição de divisor >= quociente\n",
    "# 5 - números primos para testar: 99991, 4999, 30011\n",
    "\n",
    "import time\n",
    "ti = time.time() # registrar o tempo incial de execução\n",
    "def primo(n):\n",
    "    r = int(n**(0.5))\n",
    "    for i in ([x for x in range(2, r+1) if x%2!=0]):\n",
    "#         print (i, end=' ') # a verificação está passando por números pares e não precisa!!!!\n",
    "        if (n % i == 0):\n",
    "            return False\n",
    "    return True\n",
    "# time.sleep(2)\n",
    "tf = time.time() # registrar o tempo final de execução\n",
    "\n",
    "n = int(input(\"número para verificar: \"))\n",
    "\n",
    "if primo(n):\n",
    "    print(f'''\n",
    "    O número {n} é PRIMO''')\n",
    "else:\n",
    "    print(f'''\n",
    "    O número {n} NÃO é primo''')\n",
    "\n",
    "print(f'''\n",
    "Tempo total de execução: {tf - ti} segundos''')"
   ]
  },
  {
   "cell_type": "code",
   "execution_count": 33,
   "metadata": {},
   "outputs": [
    {
     "name": "stdout",
     "output_type": "stream",
     "text": [
      "[  3   5   7   9  11  13  15  17  19  21  23  25  27  29  31  33  35  37\n",
      "  39  41  43  45  47  49  51  53  55  57  59  61  63  65  67  69  71  73\n",
      "  75  77  79  81  83  85  87  89  91  93  95  97  99 101 103 105 107 109\n",
      " 111 113 115 117 119 121 123 125 127 129 131 133 135 137 139 141 143 145\n",
      " 147 149 151 153 155 157 159 161 163 165 167 169 171 173 175 177 179 181\n",
      " 183 185 187 189 191 193 195 197 199 201 203 205 207 209 211 213 215 217\n",
      " 219 221 223 225 227 229 231 233 235 237 239 241 243 245 247 249 251 253\n",
      " 255 257 259 261 263 265 267 269 271 273 275 277 279 281 283 285 287 289\n",
      " 291 293 295 297 299 301 303 305 307 309 311 313 315 317 319 321 323 325\n",
      " 327 329 331 333 335 337 339 341 343 345 347 349 351 353 355 357 359 361\n",
      " 363 365 367 369 371 373 375 377 379 381 383 385 387 389 391 393 395 397\n",
      " 399 401 403 405 407 409 411 413 415 417 419 421 423 425 427 429 431 433\n",
      " 435 437 439 441 443 445 447 449 451 453 455 457 459 461 463 465 467 469\n",
      " 471 473 475 477 479 481 483 485 487 489 491 493 495 497 499 501 503 505\n",
      " 507 509 511 513 515 517 519 521 523 525 527 529 531 533 535 537 539 541\n",
      " 543 545 547 549 551 553 555 557 559 561 563 565 567 569 571 573 575 577\n",
      " 579 581 583 585 587 589 591 593 595 597 599 601 603 605 607 609 611 613\n",
      " 615 617 619 621 623 625 627 629 631 633 635 637 639 641 643 645 647 649\n",
      " 651 653 655 657 659 661 663 665 667 669 671 673 675 677 679 681 683 685\n",
      " 687 689 691 693 695 697 699 701 703 705 707 709 711 713 715 717 719 721\n",
      " 723 725 727 729 731 733 735 737 739 741 743 745 747 749 751 753 755 757\n",
      " 759 761 763 765 767 769 771 773 775 777 779 781 783 785 787 789 791 793\n",
      " 795 797 799 801 803 805 807 809 811 813 815 817 819 821 823 825 827 829\n",
      " 831 833 835 837 839 841 843 845 847 849 851 853 855 857 859 861 863 865\n",
      " 867 869 871 873 875 877 879 881 883 885 887 889 891 893 895 897 899 901\n",
      " 903 905 907 909 911 913 915 917 919 921 923 925 927 929 931 933 935 937\n",
      " 939 941 943 945 947 949 951 953 955 957 959 961 963 965 967 969 971 973\n",
      " 975 977 979 981 983 985 987 989 991 993 995 997 999]\n"
     ]
    }
   ],
   "source": [
    "# em estudo...\n",
    "# ausência de dados no resultado final\n",
    "# testar redução de amostras numéricas para reduzir esforço computacional\n",
    "# array = np.array([x for x in range(2, n) if x%2!=0 and x%3!=0 and x%5!=0])\n",
    "array = np.array([x for x in range(2, n) if x%2!=0])\n",
    "print(array)"
   ]
  },
  {
   "cell_type": "code",
   "execution_count": null,
   "metadata": {},
   "outputs": [],
   "source": [
    "# resultado da expressão geradora de números primos\n",
    "# 2 3 5 7 11 13 17 19 23 29 31 37 41 43 47 53 59"
   ]
  },
  {
   "cell_type": "code",
   "execution_count": 2,
   "metadata": {},
   "outputs": [
    {
     "data": {
      "text/plain": [
       "array([  2,   3,   5,   7,  11,  13,  17,  19,  23,  29,  31,  37,  41,\n",
       "        43,  47,  53,  59,  61,  67,  71,  73,  79,  83,  89,  97, 101,\n",
       "       103, 107, 109, 113, 127, 131, 137, 139, 149, 151, 157, 163, 167,\n",
       "       173, 179, 181, 191, 193, 197, 199, 211, 223, 227, 229, 233, 239,\n",
       "       241, 251, 257, 263, 269, 271, 277, 281, 283, 293, 307, 311, 313,\n",
       "       317, 331, 337, 347, 349, 353, 359, 367, 373, 379, 383, 389, 397,\n",
       "       401, 409, 419, 421, 431, 433, 439, 443, 449, 457, 461, 463, 467,\n",
       "       479, 487, 491, 499, 503, 509, 521, 523, 541, 547, 557, 563, 569,\n",
       "       571, 577, 587, 593, 599, 601, 607, 613, 617, 619, 631, 641, 643,\n",
       "       647, 653, 659, 661, 673, 677, 683, 691, 701, 709, 719, 727, 733,\n",
       "       739, 743, 751, 757, 761, 769, 773, 787, 797, 809, 811, 821, 823,\n",
       "       827, 829, 839, 853, 857, 859, 863, 877, 881, 883, 887, 907, 911,\n",
       "       919, 929, 937, 941, 947, 953, 967, 971, 977, 983, 991, 997])"
      ]
     },
     "execution_count": 2,
     "metadata": {},
     "output_type": "execute_result"
    }
   ],
   "source": [
    "# ESTUDOS com o numpy\n",
    "# listando uma sequência de números primos com o numpy\n",
    "# by geanclm in 21/04/2022 at 10:50h\n",
    "a = np.arange(0,1000)\n",
    "def is_prime(n):\n",
    "    if n%2 == 0 and n > 2: \n",
    "        return False\n",
    "    elif n <= 0 or n == 1: \n",
    "        return False\n",
    "    return all(n%i for i in range(3, int(n**1/2)+1, 2))\n",
    "np.extract(np.vectorize(is_prime)(a),a)"
   ]
  }
 ],
 "metadata": {
  "kernelspec": {
   "display_name": "Python 3",
   "language": "python",
   "name": "python3"
  },
  "language_info": {
   "codemirror_mode": {
    "name": "ipython",
    "version": 3
   },
   "file_extension": ".py",
   "mimetype": "text/x-python",
   "name": "python",
   "nbconvert_exporter": "python",
   "pygments_lexer": "ipython3",
   "version": "3.8.5"
  }
 },
 "nbformat": 4,
 "nbformat_minor": 4
}
